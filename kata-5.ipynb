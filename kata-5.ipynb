{
 "cells": [
  {
   "cell_type": "markdown",
   "metadata": {},
   "source": [
    "## Ejercicio 1"
   ]
  },
  {
   "cell_type": "code",
   "execution_count": 12,
   "metadata": {},
   "outputs": [
    {
     "name": "stdout",
     "output_type": "stream",
     "text": [
      "distancia entre tierra y jupiter 628949330 distancia en millas 390577533\n"
     ]
    }
   ],
   "source": [
    "tierra=149597870 \n",
    "jupiter=778547200\n",
    "distancia_km= abs(tierra-jupiter)\n",
    "distancia_mi= abs(distancia_km*0.621)\n",
    "\n",
    "print(\"distancia entre tierra y jupiter\", distancia_km, \"distancia en millas\", int(distancia_mi))\n"
   ]
  },
  {
   "cell_type": "markdown",
   "metadata": {},
   "source": [
    "## Ejercicio 2"
   ]
  },
  {
   "cell_type": "code",
   "execution_count": 30,
   "metadata": {},
   "outputs": [
    {
     "name": "stdout",
     "output_type": "stream",
     "text": [
      "628949330\n",
      "390577533.93\n"
     ]
    }
   ],
   "source": [
    "planeta_1= input(\"introduzca la distancia del sol a el primer planeta en KM: \")\n",
    "planeta_2= input(\"introduzca la distancia del sol a el segundo planeta en KM: \")\n",
    "\n",
    "planeta_1=int(planeta_1)\n",
    "planeta_2=int(planeta_2)\n",
    " \n",
    "distancia_km = planeta_2-planeta_1\n",
    "print(distancia_km)\n",
    "\n",
    "distancia_mi= distancia_km*0.621\n",
    "print(abs(distancia_mi))\n"
   ]
  }
 ],
 "metadata": {
  "interpreter": {
   "hash": "fd88dcead69d25b1ff35a76ad18cacf00e16471f801844cbe4d1cf3790939e9f"
  },
  "kernelspec": {
   "display_name": "Python 3.10.2 64-bit",
   "language": "python",
   "name": "python3"
  },
  "language_info": {
   "codemirror_mode": {
    "name": "ipython",
    "version": 3
   },
   "file_extension": ".py",
   "mimetype": "text/x-python",
   "name": "python",
   "nbconvert_exporter": "python",
   "pygments_lexer": "ipython3",
   "version": "3.10.2"
  },
  "orig_nbformat": 4
 },
 "nbformat": 4,
 "nbformat_minor": 2
}
