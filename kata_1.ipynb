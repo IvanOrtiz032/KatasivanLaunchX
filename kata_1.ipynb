{
 "cells": [
  {
   "cell_type": "markdown",
   "metadata": {},
   "source": [
    "## Primer Programa"
   ]
  },
  {
   "cell_type": "code",
   "execution_count": 6,
   "metadata": {},
   "outputs": [
    {
     "name": "stdout",
     "output_type": "stream",
     "text": [
      "Toda´s date is: 2022-02-11\n"
     ]
    }
   ],
   "source": [
    "from datetime import date\n",
    "\n",
    "print (\"Toda´s date is: \"+ str(date.today()))\n"
   ]
  },
  {
   "cell_type": "markdown",
   "metadata": {},
   "source": [
    "## Convertidor de unidades\n"
   ]
  },
  {
   "cell_type": "code",
   "execution_count": 1,
   "metadata": {},
   "outputs": [
    {
     "name": "stdout",
     "output_type": "stream",
     "text": [
      "11 parsec, is: 35.877159999999996 lightyears \n"
     ]
    }
   ],
   "source": [
    "parsec= 11\n",
    "\n",
    "lightyears=3.26156 * parsec\n",
    "\n",
    "\n",
    "\n",
    "print(str(parsec)+ \" parsec, is: \" + str(lightyears) + \" lightyears \")"
   ]
  }
 ],
 "metadata": {
  "interpreter": {
   "hash": "fd88dcead69d25b1ff35a76ad18cacf00e16471f801844cbe4d1cf3790939e9f"
  },
  "kernelspec": {
   "display_name": "Python 3.10.2 64-bit",
   "language": "python",
   "name": "python3"
  },
  "language_info": {
   "codemirror_mode": {
    "name": "ipython",
    "version": 3
   },
   "file_extension": ".py",
   "mimetype": "text/x-python",
   "name": "python",
   "nbconvert_exporter": "python",
   "pygments_lexer": "ipython3",
   "version": "3.10.2"
  },
  "orig_nbformat": 4
 },
 "nbformat": 4,
 "nbformat_minor": 2
}
